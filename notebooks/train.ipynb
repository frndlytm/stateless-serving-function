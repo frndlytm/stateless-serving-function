{
 "cells": [
  {
   "cell_type": "markdown",
   "metadata": {},
   "source": [
    "# Train"
   ]
  },
  {
   "cell_type": "code",
   "execution_count": 1,
   "metadata": {},
   "outputs": [
    {
     "name": "stdout",
     "output_type": "stream",
     "text": [
      "c:\\Users\\dimar\\OneDrive\\Desktop\\github.com\\frndlytm\\compensation-imputer\n"
     ]
    }
   ],
   "source": [
    "import os\n",
    "\n",
    "here = os.path.abspath(\"\")\n",
    "project = os.path.dirname(here)\n",
    "print(project)"
   ]
  },
  {
   "cell_type": "markdown",
   "metadata": {},
   "source": [
    "A simple training notebook that:\n",
    "\n",
    "- Adapts an `sklearn.impute.SimpleImputer` to an `mlflow.pyfunc.PythonModel`\n",
    "- Trains the model naively because it's a `SimpleImputer`, and\n",
    "- Saves the model to the local file-system under `./data/models/`\n",
    "\n",
    "This ensures that we can generalize the cloud function always to use\n",
    "`mlflow.pyfunc.PythonModel` and get said model from the file-system."
   ]
  },
  {
   "cell_type": "code",
   "execution_count": 2,
   "metadata": {},
   "outputs": [],
   "source": [
    "\n",
    "import mlflow.pyfunc\n",
    "import numpy as np\n",
    "import pandas as pd\n",
    "import sklearn.impute"
   ]
  },
  {
   "cell_type": "code",
   "execution_count": 29,
   "metadata": {},
   "outputs": [],
   "source": [
    "class SimpleImputer(mlflow.pyfunc.PythonModel):\n",
    "    \"\"\"\n",
    "    A custom model that adpts the sklearn.impute.SimpleImputer from the\n",
    "    `transform` interface into the `predict` interface.\n",
    "    \"\"\"\n",
    "\n",
    "    def __init__(self, *args, **kwargs):\n",
    "        self.imputer = sklearn.impute.SimpleImputer(*args, **kwargs)\n",
    "\n",
    "    def fit(self, _: pd.DataFrame, y: pd.Series) -> \"SimpleImputer\":\n",
    "        \"\"\"\n",
    "        Since sklearn.impute.SimpleImputer is a univariate method, I\n",
    "        use only the data from the `y` series to learn a value for it. \n",
    "        \"\"\"\n",
    "        self.imputer.fit(y.array.reshape(-1, 1))\n",
    "        return self\n",
    "\n",
    "    def predict(self, context, model_input, params=None):\n",
    "        \"\"\"Adapt the `transform` from SimpleImputer to `predict` by creating\n",
    "        an empty target series and filling it with the transform.\"\"\"\n",
    "        y_pred = np.full(model_input.shape[0], np.nan).reshape(-1, 1)\n",
    "        y_pred = self.imputer.transform(y_pred)\n",
    "        return pd.Series(y_pred.flatten())\n"
   ]
  },
  {
   "cell_type": "code",
   "execution_count": 20,
   "metadata": {},
   "outputs": [
    {
     "data": {
      "text/plain": [
       "(   employee_id                     ssg  ...         city years_of_experience\n",
       " 0         2977                      HR  ...  Los Angeles            4.000000\n",
       " 1         2666                 Finance  ...      Seattle            5.760796\n",
       " 2         5547            XYZ Division  ...       Austin           12.020000\n",
       " 3         1841                  Buyers  ...      Chicago           41.513650\n",
       " 4         1618  Administrative Support  ...       Austin           13.507989\n",
       " \n",
       " [5 rows x 5 columns],\n",
       " 0     92313.79723\n",
       " 1     91261.14162\n",
       " 2     52424.19504\n",
       " 3    110625.48450\n",
       " 4     44926.42635\n",
       " Name: compensation, dtype: float64)"
      ]
     },
     "execution_count": 20,
     "metadata": {},
     "output_type": "execute_result"
    }
   ],
   "source": [
    "df = pd.read_csv(os.path.join(project, \"data\", \"raw\", \"compensations.csv\"))\n",
    "\n",
    "target = \"compensation\" \n",
    "features = list(filter(lambda c: c != target, df.columns))\n",
    "\n",
    "X, y = df[features], df[target]\n",
    "(X.head(5), y.head(5))"
   ]
  },
  {
   "cell_type": "code",
   "execution_count": 32,
   "metadata": {},
   "outputs": [],
   "source": [
    "model = SimpleImputer().fit(X, y)\n",
    "mlflow.pyfunc.save_model(\n",
    "    path=os.path.join(project, \"data\", \"models\", \"SimpleImputer\"),\n",
    "    python_model=model\n",
    ")"
   ]
  },
  {
   "cell_type": "code",
   "execution_count": 34,
   "metadata": {},
   "outputs": [],
   "source": [
    "X[target] = model.predict(None, X, None)\n"
   ]
  },
  {
   "cell_type": "code",
   "execution_count": 37,
   "metadata": {},
   "outputs": [
    {
     "name": "stderr",
     "output_type": "stream",
     "text": [
      "C:\\Users\\dimar\\AppData\\Local\\Temp\\ipykernel_5320\\1575129576.py:1: FutureWarning: Passing literal json to 'read_json' is deprecated and will be removed in a future version. To read from a literal string, wrap it in a 'StringIO' object.\n",
      "  pd.read_json(X.to_json(orient=\"table\"), orient=\"table\")\n"
     ]
    },
    {
     "data": {
      "text/html": [
       "<div>\n",
       "<style scoped>\n",
       "    .dataframe tbody tr th:only-of-type {\n",
       "        vertical-align: middle;\n",
       "    }\n",
       "\n",
       "    .dataframe tbody tr th {\n",
       "        vertical-align: top;\n",
       "    }\n",
       "\n",
       "    .dataframe thead th {\n",
       "        text-align: right;\n",
       "    }\n",
       "</style>\n",
       "<table border=\"1\" class=\"dataframe\">\n",
       "  <thead>\n",
       "    <tr style=\"text-align: right;\">\n",
       "      <th></th>\n",
       "      <th>employee_id</th>\n",
       "      <th>ssg</th>\n",
       "      <th>gender</th>\n",
       "      <th>city</th>\n",
       "      <th>years_of_experience</th>\n",
       "      <th>compensation</th>\n",
       "    </tr>\n",
       "  </thead>\n",
       "  <tbody>\n",
       "    <tr>\n",
       "      <th>0</th>\n",
       "      <td>2977</td>\n",
       "      <td>HR</td>\n",
       "      <td>female</td>\n",
       "      <td>Los Angeles</td>\n",
       "      <td>4.000000</td>\n",
       "      <td>91594.782902</td>\n",
       "    </tr>\n",
       "    <tr>\n",
       "      <th>1</th>\n",
       "      <td>2666</td>\n",
       "      <td>Finance</td>\n",
       "      <td>female</td>\n",
       "      <td>Seattle</td>\n",
       "      <td>5.760796</td>\n",
       "      <td>91594.782902</td>\n",
       "    </tr>\n",
       "    <tr>\n",
       "      <th>2</th>\n",
       "      <td>5547</td>\n",
       "      <td>XYZ Division</td>\n",
       "      <td>female</td>\n",
       "      <td>Austin</td>\n",
       "      <td>12.020000</td>\n",
       "      <td>91594.782902</td>\n",
       "    </tr>\n",
       "    <tr>\n",
       "      <th>3</th>\n",
       "      <td>1841</td>\n",
       "      <td>Buyers</td>\n",
       "      <td>female</td>\n",
       "      <td>Chicago</td>\n",
       "      <td>41.513650</td>\n",
       "      <td>91594.782902</td>\n",
       "    </tr>\n",
       "    <tr>\n",
       "      <th>4</th>\n",
       "      <td>1618</td>\n",
       "      <td>Administrative Support</td>\n",
       "      <td>female</td>\n",
       "      <td>Austin</td>\n",
       "      <td>13.507989</td>\n",
       "      <td>91594.782902</td>\n",
       "    </tr>\n",
       "    <tr>\n",
       "      <th>...</th>\n",
       "      <td>...</td>\n",
       "      <td>...</td>\n",
       "      <td>...</td>\n",
       "      <td>...</td>\n",
       "      <td>...</td>\n",
       "      <td>...</td>\n",
       "    </tr>\n",
       "    <tr>\n",
       "      <th>3887</th>\n",
       "      <td>2854</td>\n",
       "      <td>Finance</td>\n",
       "      <td>male</td>\n",
       "      <td>Seattle</td>\n",
       "      <td>25.599970</td>\n",
       "      <td>91594.782902</td>\n",
       "    </tr>\n",
       "    <tr>\n",
       "      <th>3888</th>\n",
       "      <td>1893</td>\n",
       "      <td>Buyers</td>\n",
       "      <td>male</td>\n",
       "      <td>Chicago</td>\n",
       "      <td>21.870848</td>\n",
       "      <td>91594.782902</td>\n",
       "    </tr>\n",
       "    <tr>\n",
       "      <th>3889</th>\n",
       "      <td>3836</td>\n",
       "      <td>LMNOP Division Operators</td>\n",
       "      <td>male</td>\n",
       "      <td>Seattle</td>\n",
       "      <td>16.310000</td>\n",
       "      <td>91594.782902</td>\n",
       "    </tr>\n",
       "    <tr>\n",
       "      <th>3890</th>\n",
       "      <td>4511</td>\n",
       "      <td>QRS Division</td>\n",
       "      <td>male</td>\n",
       "      <td>Austin</td>\n",
       "      <td>17.300000</td>\n",
       "      <td>91594.782902</td>\n",
       "    </tr>\n",
       "    <tr>\n",
       "      <th>3891</th>\n",
       "      <td>4340</td>\n",
       "      <td>Production</td>\n",
       "      <td>male</td>\n",
       "      <td>Austin</td>\n",
       "      <td>6.710000</td>\n",
       "      <td>91594.782902</td>\n",
       "    </tr>\n",
       "  </tbody>\n",
       "</table>\n",
       "<p>3892 rows × 6 columns</p>\n",
       "</div>"
      ],
      "text/plain": [
       "      employee_id                       ssg  ... years_of_experience  compensation\n",
       "0            2977                        HR  ...            4.000000  91594.782902\n",
       "1            2666                   Finance  ...            5.760796  91594.782902\n",
       "2            5547              XYZ Division  ...           12.020000  91594.782902\n",
       "3            1841                    Buyers  ...           41.513650  91594.782902\n",
       "4            1618    Administrative Support  ...           13.507989  91594.782902\n",
       "...           ...                       ...  ...                 ...           ...\n",
       "3887         2854                   Finance  ...           25.599970  91594.782902\n",
       "3888         1893                    Buyers  ...           21.870848  91594.782902\n",
       "3889         3836  LMNOP Division Operators  ...           16.310000  91594.782902\n",
       "3890         4511              QRS Division  ...           17.300000  91594.782902\n",
       "3891         4340                Production  ...            6.710000  91594.782902\n",
       "\n",
       "[3892 rows x 6 columns]"
      ]
     },
     "execution_count": 37,
     "metadata": {},
     "output_type": "execute_result"
    }
   ],
   "source": [
    "pd.read_json(X.to_json(orient=\"table\"), orient=\"table\")"
   ]
  },
  {
   "cell_type": "markdown",
   "metadata": {},
   "source": [
    "## Bonus: Get Request Payload"
   ]
  },
  {
   "cell_type": "code",
   "execution_count": 41,
   "metadata": {},
   "outputs": [
    {
     "name": "stdout",
     "output_type": "stream",
     "text": [
      "Index(['employee_id', 'ssg', 'compensation', 'gender', 'city',\n",
      "       'years_of_experience'],\n",
      "      dtype='object')\n"
     ]
    }
   ],
   "source": [
    "missing_compensation = df[pd.isnull(df.compensation)]\n",
    "\n",
    "with open(os.path.join(project, \"data\", \"processed\", \"payload.json\"), \"w+\") as fh:\n",
    "    fh.write(missing_compensation.to_json(orient=\"table\", indent=2))"
   ]
  },
  {
   "cell_type": "code",
   "execution_count": null,
   "metadata": {},
   "outputs": [],
   "source": []
  }
 ],
 "metadata": {
  "kernelspec": {
   "display_name": ".venv",
   "language": "python",
   "name": "python3"
  },
  "language_info": {
   "codemirror_mode": {
    "name": "ipython",
    "version": 3
   },
   "file_extension": ".py",
   "mimetype": "text/x-python",
   "name": "python",
   "nbconvert_exporter": "python",
   "pygments_lexer": "ipython3",
   "version": "3.12.0"
  }
 },
 "nbformat": 4,
 "nbformat_minor": 2
}
